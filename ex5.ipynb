{
 "cells": [
  {
   "cell_type": "markdown",
   "id": "a5d5f3e6",
   "metadata": {},
   "source": [
    "# Лабораторная работа №324\n",
    "## Биполярный транзистор."
   ]
  },
  {
   "cell_type": "markdown",
   "id": "8a1f9fba",
   "metadata": {},
   "source": [
    "**Цель работы:** определить основные характеристики, описывающие работу биполярного транзистора, по экспериментально полученным зависимостям тока и напряжения в цепи.\n",
    "\n",
    "[Методичка к практикуму №324](http://genphys.phys.msu.ru/rus/lab/elmag/Lab324_2021.pdf \"Прак №324\")\n"
   ]
  },
  {
   "cell_type": "code",
   "execution_count": null,
   "id": "2f87968a",
   "metadata": {},
   "outputs": [],
   "source": [
    "import __init__\n",
    "import numpy as np\n",
    "import scipy as sp\n",
    "import matplotlib.pyplot as plt\n",
    "from scipy.optimize import fsolve\n",
    "from matplotlib import rcParams\n",
    "rcParams['figure.dpi'] = 100"
   ]
  },
  {
   "cell_type": "markdown",
   "id": "7b185b1d",
   "metadata": {},
   "source": [
    "### Упражнение 1. \n",
    "*Изучение входной характеристики транзистора.*"
   ]
  },
  {
   "cell_type": "markdown",
   "id": "72044481",
   "metadata": {},
   "source": [
    "<img src=\"pic1.png\" width=\"350\">\n",
    "Загрузка и вывод нужных данных из текстового файла:"
   ]
  },
  {
   "cell_type": "code",
   "execution_count": null,
   "id": "709e9cba",
   "metadata": {},
   "outputs": [],
   "source": [
    "loaded_data1 = np.loadtxt('untitled1.txt')\n",
    "loaded_data = loaded_data1[loaded_data1[:, 0] > 0.56]\n",
    "loaded_data"
   ]
  },
  {
   "cell_type": "markdown",
   "id": "bfee43fb",
   "metadata": {},
   "source": [
    "Обработка по методу МНК и построение графика:"
   ]
  },
  {
   "cell_type": "code",
   "execution_count": null,
   "id": "3a57f69c",
   "metadata": {},
   "outputs": [],
   "source": [
    "def mnk(loaded_data):\n",
    "    N = loaded_data.shape[0]\n",
    "    x = loaded_data[:,0]\n",
    "    y = loaded_data[:,1]\n",
    "    \n",
    "    mx = x.sum()\n",
    "    my = y.sum()\n",
    "    a2 = np.dot(x.T, x)\n",
    "    a1 = np.dot(x.T, y)\n",
    "    \n",
    "    k = (N*a1 - mx*my)/(N*a2 - mx**2)\n",
    "    b = (a2*my - mx*a1)/(N*a2 - mx**2)\n",
    "    s0 = np.dot((y-k*x-b).T, (y-k*x-b))/(N-2)\n",
    "    dk = (s0*N/(N*a2 - mx**2))**(1/2)\n",
    "    db = (s0*a2/(N*a2 - mx**2))**(1/2)\n",
    "    f = np.array([k*z+b for z in range(N)])\n",
    "    return k, dk, b, db, f, s0\n",
    "\n",
    "k, dk, b, db, f, s0 = mnk(loaded_data)\n",
    "plt.ylabel('Iб, мкА')\n",
    "plt.xlabel('Uбэ, В')\n",
    "plt.xlim(0, 0.7)\n",
    "plt.ylim(-200, 1400)\n",
    "plt.title('Зависимость тока базы от напряжения между базой и эмиттером.', fontsize=14)\n",
    "plt.plot(f, c='red', lw = 1)\n",
    "plt.scatter(loaded_data1[:,0], loaded_data1[:,1], s=8, c='blue')\n",
    "plt.errorbar(loaded_data1[:,0], loaded_data1[:,1], yerr=s0**(1/2), fmt='.', capsize=2, capthick=1);\n",
    "plt.grid(True)\n",
    "plt.show()\n",
    "print ('Результат МНК:')\n",
    "print (\"k =\", k, \"±\", dk)\n",
    "print (\"b =\", b, \"±\", db)"
   ]
  },
  {
   "cell_type": "markdown",
   "id": "d62e5440",
   "metadata": {},
   "source": [
    "Для нахождения значения порога срабатывания вычислим точку пересечения аппроксимирующей прямой с осью абсцисс: "
   ]
  },
  {
   "cell_type": "code",
   "execution_count": null,
   "id": "5f6c1407",
   "metadata": {},
   "outputs": [],
   "source": [
    "print (\"Оценка значения порога срабатывания:\", -b/k, \"Вольт\")"
   ]
  },
  {
   "cell_type": "markdown",
   "id": "8c4dd12e",
   "metadata": {},
   "source": [
    "### Упражнение 2. \n",
    "*Изучение переходной характеристики транзистора.*"
   ]
  },
  {
   "cell_type": "markdown",
   "id": "cb9a7aae",
   "metadata": {},
   "source": [
    "<img src=\"pic2.png\" width=\"500\">\n",
    "Загрузка и вывод данных из текстового файла:"
   ]
  },
  {
   "cell_type": "code",
   "execution_count": null,
   "id": "e2f691aa",
   "metadata": {},
   "outputs": [],
   "source": [
    "loaded_data = np.loadtxt('untitled2.txt')\n",
    "loaded_data"
   ]
  },
  {
   "cell_type": "markdown",
   "id": "63d68496",
   "metadata": {},
   "source": [
    "Обработка по методу МНК и построение графика:"
   ]
  },
  {
   "cell_type": "code",
   "execution_count": null,
   "id": "ac0f3f14",
   "metadata": {},
   "outputs": [],
   "source": [
    "k, dk, b, db, f, s0 = mnk(loaded_data)\n",
    "\n",
    "plt.ylabel('Iк, кА')\n",
    "plt.xlabel('Iб, мкА')\n",
    "plt.xlim(0, 1.75)\n",
    "plt.ylim(-0.05, 0.3)\n",
    "plt.title('Зависимость тока коллектора от тока базы.', fontsize=14)\n",
    "plt.scatter(loaded_data[:,0], loaded_data[:,1], s=8, c='blue')\n",
    "plt.errorbar(loaded_data[:,0], loaded_data[:,1], yerr=s0**(1/2), fmt='.', capsize=2, capthick=1);\n",
    "plt.plot(f, c='red', lw = 1)\n",
    "plt.grid(True)\n",
    "plt.show()\n",
    "print ('Результат МНК:')\n",
    "print (\"k =\", k, \"±\", dk)\n",
    "print (\"b =\", b, \"±\", db)"
   ]
  },
  {
   "cell_type": "code",
   "execution_count": null,
   "id": "49b494ea",
   "metadata": {},
   "outputs": [],
   "source": [
    "print (\"Коэффициент усиления биполярного транзистора:\", k*1000, \"±\", dk*1000)"
   ]
  },
  {
   "cell_type": "markdown",
   "id": "6f3f96a3",
   "metadata": {},
   "source": [
    "Сделаем оценку величины $\\frac{W}{D}$, где $W$ – толщина базы, а $D$ – диффузионная длина для неосновных носителей базы: $$\\alpha=\\frac{1-W^2}{2D^2};⠀\\alpha=\\frac{I_к}{I_э}=\\frac{I_к}{I_к+I_б};⠀\\frac{I_к}{I_б}=\\beta \\implies \\frac{W}{D}=\\sqrt{\\frac{2}{1+\\beta}}$$ "
   ]
  },
  {
   "cell_type": "code",
   "execution_count": null,
   "id": "25cfc00c",
   "metadata": {},
   "outputs": [],
   "source": [
    "print (\"Оценка отношения толщины базы к диффузионной длине неосновных зарядов:\", ((2/(1+k*1000))**(1/2)))"
   ]
  },
  {
   "cell_type": "markdown",
   "id": "ffec3afa",
   "metadata": {},
   "source": [
    "### Упражнение 3. \n",
    "*Изучение выходной характеристики транзистора.*"
   ]
  },
  {
   "cell_type": "markdown",
   "id": "6e3e602f",
   "metadata": {},
   "source": [
    "<img src=\"pic3.png\" width=\"450\">\n",
    "Загрузка и вывод данных из текстового файла:"
   ]
  },
  {
   "cell_type": "code",
   "execution_count": null,
   "id": "56e836c0",
   "metadata": {},
   "outputs": [],
   "source": [
    "loaded_data = np.loadtxt('untitled3.txt')\n",
    "loaded_data"
   ]
  },
  {
   "cell_type": "markdown",
   "id": "636b955d",
   "metadata": {},
   "source": [
    "Построим график зависимости тока от напряжения:"
   ]
  },
  {
   "cell_type": "code",
   "execution_count": null,
   "id": "379c2d27",
   "metadata": {},
   "outputs": [],
   "source": [
    "plt.ylabel('Iк, мкА')\n",
    "plt.xlabel('Uкэ, В')\n",
    "plt.xlim(0, 0.9)\n",
    "plt.ylim(0, 0.3)\n",
    "plt.title('Зависимость тока коллектора от напряжения между коллектором и эмиттером.', fontsize=14)\n",
    "plt.plot(loaded_data[:,0], loaded_data[:,1])\n",
    "plt.scatter(loaded_data[:,0], loaded_data[:,1], s=8, c='blue')\n",
    "plt.grid(True)\n",
    "plt.show()"
   ]
  },
  {
   "cell_type": "markdown",
   "id": "35a6fe8b",
   "metadata": {},
   "source": [
    "Вычислим теперь значения мощности на транзисторе для каждой точки, которая определяется по формуле: $$P=U*I$$"
   ]
  },
  {
   "cell_type": "code",
   "execution_count": null,
   "id": "857b9ab2",
   "metadata": {},
   "outputs": [],
   "source": [
    "loaded_data[:,1] = loaded_data[:,0]*loaded_data[:,1]\n",
    "loaded_data"
   ]
  },
  {
   "cell_type": "markdown",
   "id": "5eb656e1",
   "metadata": {},
   "source": [
    "Построим график зависимости мощности от напряжения:"
   ]
  },
  {
   "cell_type": "code",
   "execution_count": null,
   "id": "10045af6",
   "metadata": {},
   "outputs": [],
   "source": [
    "plt.ylabel('P, Вт')\n",
    "plt.xlabel('Uкэ, В')\n",
    "plt.xlim(0, 0.9)\n",
    "plt.ylim(-0.05, 0.25)\n",
    "plt.title('Зависимость мощности от напряжения между коллектором и эмиттером.', fontsize=14)\n",
    "plt.plot(loaded_data[:,0], loaded_data[:,1])\n",
    "plt.scatter(loaded_data[:,0], loaded_data[:,1], s=8, c='blue')\n",
    "plt.grid(True)\n",
    "plt.show()"
   ]
  },
  {
   "cell_type": "markdown",
   "id": "c20447dd",
   "metadata": {},
   "source": [
    "**Результаты работы:** \n",
    "+ Определить основные характеристики, описывающие работу биполярного транзистора:\n",
    "    * произведена оценка значения порога срабатывания: 0.55 В\n",
    "    * был вычислен коэффицент усиления биполярного транзистора: 160 ± 3\n",
    "    * сделана оценка отношения толщины базы к диффузионной длине неосновных зарядов: 0.11\n",
    "    \n",
    "    \n",
    "+ Были построены экспериментальные зависимости:\n",
    "    * тока базы от напряжения между базой и эмиттером\n",
    "    * тока коллектора от тока базы\n",
    "    * тока коллектора от напряжения между коллектором и эмиттером\n",
    "    * мощности от напряжения между коллектором и эмиттером"
   ]
  },
  {
   "cell_type": "markdown",
   "id": "72db416f",
   "metadata": {},
   "source": [
    "*Отчёт к лабораторной работе №324 был подготовлен студенткой 2 курса, Чибисовой Марией, 2021 г*"
   ]
  }
 ],
 "metadata": {
  "kernelspec": {
   "display_name": "Python 3 (ipykernel)",
   "language": "python",
   "name": "python3"
  },
  "language_info": {
   "codemirror_mode": {
    "name": "ipython",
    "version": 3
   },
   "file_extension": ".py",
   "mimetype": "text/x-python",
   "name": "python",
   "nbconvert_exporter": "python",
   "pygments_lexer": "ipython3",
   "version": "3.9.5"
  }
 },
 "nbformat": 4,
 "nbformat_minor": 5
}
